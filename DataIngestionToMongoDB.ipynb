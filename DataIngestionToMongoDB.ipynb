{
  "nbformat": 4,
  "nbformat_minor": 0,
  "metadata": {
    "colab": {
      "provenance": [],
      "authorship_tag": "ABX9TyOs6B+g7zYaOuuVaTB1gHnu",
      "include_colab_link": true
    },
    "kernelspec": {
      "name": "python3",
      "display_name": "Python 3"
    },
    "language_info": {
      "name": "python"
    }
  },
  "cells": [
    {
      "cell_type": "markdown",
      "metadata": {
        "id": "view-in-github",
        "colab_type": "text"
      },
      "source": [
        "<a href=\"https://colab.research.google.com/github/OliyadTeshome/Project-Brazillian-Ecommerce/blob/main/DataIngestionToMongoDB.ipynb\" target=\"_parent\"><img src=\"https://colab.research.google.com/assets/colab-badge.svg\" alt=\"Open In Colab\"/></a>"
      ]
    },
    {
      "cell_type": "code",
      "execution_count": 1,
      "metadata": {
        "colab": {
          "base_uri": "https://localhost:8080/"
        },
        "id": "ckoIZSJcqsQk",
        "outputId": "8ff1d0c7-7f5e-45a7-bade-ef60f41f3065"
      },
      "outputs": [
        {
          "output_type": "stream",
          "name": "stdout",
          "text": [
            "Requirement already satisfied: pymongo in /usr/local/lib/python3.11/dist-packages (4.11.3)\n",
            "Requirement already satisfied: dnspython<3.0.0,>=1.16.0 in /usr/local/lib/python3.11/dist-packages (from pymongo) (2.7.0)\n",
            "Data uploaded to MongoDB successfully!\n"
          ]
        }
      ],
      "source": [
        "!pip install pymongo\n",
        "\n",
        "import pandas as pd\n",
        "from pymongo import MongoClient\n",
        "\n",
        "# Load the product_category CSV file into a pandas DataFrame\n",
        "try:\n",
        "  product_category_df = pd.read_csv(\"product_category_name_translation.csv\")\n",
        "except FileNotFoundError:\n",
        "  print(\"Error: 'product_category_name_translation.csv' not found.\")\n",
        "  exit() # Exit the script if the file is not found\n",
        "\n",
        "\n",
        "# MongoDB connection details (assuming these are already defined in your script)\n",
        "\n",
        "hostname = \"8dwwg.h.filess.io\"\n",
        "database = \"olistDataNoSQL_exploreto\"\n",
        "port = \"61004\"\n",
        "username = \"olistDataNoSQL_exploreto\"\n",
        "password = \"6e13d3379e04248666b1099f767dd4ceaad23c09\"\n",
        "\n",
        "uri = \"mongodb://\" + username + \":\" + password + \"@\" + hostname + \":\" + port + \"/\" + database\n",
        "\n",
        "try:\n",
        "    # Establish a connection to MongoDB\n",
        "    client = MongoClient(uri)\n",
        "    db = client[database]\n",
        "\n",
        "    # Select the collection (or create if it doesn't exist)\n",
        "    collection = db[\"product_categories\"]  # Choose a suitable name for your collection\n",
        "\n",
        "    # Convert the DataFrame to a list of dictionaries for insertion into MongoDB\n",
        "    data_to_insert = product_category_df.to_dict(orient=\"records\")\n",
        "\n",
        "    # Insert the data into the collection\n",
        "    collection.insert_many(data_to_insert)\n",
        "\n",
        "    print(\"Data uploaded to MongoDB successfully!\")\n",
        "\n",
        "except Exception as e:\n",
        "    print(f\"An error occurred: {e}\")\n",
        "\n",
        "finally:\n",
        "    # Close the MongoDB connection\n",
        "    if client:\n",
        "        client.close()"
      ]
    }
  ]
}